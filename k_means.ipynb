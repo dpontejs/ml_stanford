{
  "nbformat": 4,
  "nbformat_minor": 0,
  "metadata": {
    "colab": {
      "provenance": []
    },
    "kernelspec": {
      "name": "python3",
      "display_name": "Python 3"
    },
    "language_info": {
      "name": "python"
    }
  },
  "cells": [
    {
      "cell_type": "code",
      "execution_count": null,
      "metadata": {
        "id": "WXvxMnNOKzy3"
      },
      "outputs": [],
      "source": [
        "import numpy as np\n",
        "import matplotlib.pyplot as plt\n",
        "from utils import *\n",
        "\n",
        "%matplotlib inline"
      ]
    },
    {
      "cell_type": "code",
      "source": [
        "def find_closest_centroids(X, centroids):\n",
        "    \"\"\"\n",
        "    Computes the centroid memberships for every example\n",
        "\n",
        "    Args:\n",
        "        X (ndarray): (m, n) Input values\n",
        "        centroids (ndarray): (K, n) centroids\n",
        "\n",
        "    Returns:\n",
        "        idx (array_like): (m,) closest centroids\n",
        "\n",
        "    \"\"\"\n",
        "    K = centroids.shape[0]\n",
        "\n",
        "    idx = np.zeros(X.shape[0], dtype=int)\n",
        "\n",
        "    for i in range(X.shape[0]):\n",
        "        distance = []\n",
        "        for j in range(centroids.shape[0]):\n",
        "            norm = np.linalg.norm(X[i] - centroids[j])\n",
        "            distance.append(norm)\n",
        "        idx[i] = np.argmin(distance)\n",
        "\n",
        "    return idx"
      ],
      "metadata": {
        "id": "HJmFins7LU1X"
      },
      "execution_count": null,
      "outputs": []
    },
    {
      "cell_type": "code",
      "source": [
        "X = load_data()"
      ],
      "metadata": {
        "id": "shNR1qnLLbJU"
      },
      "execution_count": null,
      "outputs": []
    },
    {
      "cell_type": "code",
      "source": [
        "def compute_centroids(X, idx, K):\n",
        "    \"\"\"\n",
        "    Returns the new centroids by computing the means of the\n",
        "    data points assigned to each centroid.\n",
        "\n",
        "    Args:\n",
        "        X (ndarray):   (m, n) Data points\n",
        "        idx (ndarray): (m,) Array containing index of closest centroid for each\n",
        "                       example in X. Concretely, idx[i] contains the index of\n",
        "                       the centroid closest to example i\n",
        "        K (int):       number of centroids\n",
        "\n",
        "    Returns:\n",
        "        centroids (ndarray): (K, n) New centroids computed\n",
        "    \"\"\"\n",
        "\n",
        "    m, n = X.shape\n",
        "\n",
        "    centroids = np.zeros((K, n))\n",
        "\n",
        "    for i in range(K):\n",
        "        points = X[idx == i]\n",
        "        centroids[i] = np.mean(points, axis=0)\n",
        "\n",
        "    return centroids"
      ],
      "metadata": {
        "id": "wmGP-JsaLfZD"
      },
      "execution_count": null,
      "outputs": []
    },
    {
      "cell_type": "code",
      "source": [
        "def run_kMeans(X, initial_centroids, max_iters=10, plot_progress=False):\n",
        "    \"\"\"\n",
        "    Runs the K-Means algorithm on data matrix X, where each row of X\n",
        "    is a single example\n",
        "    \"\"\"\n",
        "\n",
        "    m, n = X.shape\n",
        "    K = initial_centroids.shape[0]\n",
        "    centroids = initial_centroids\n",
        "    previous_centroids = centroids\n",
        "    idx = np.zeros(m)\n",
        "    plt.figure(figsize=(8, 6))\n",
        "\n",
        "    for i in range(max_iters):\n",
        "\n",
        "        print(\"K-Means iteration %d/%d\" % (i, max_iters-1))\n",
        "\n",
        "        idx = find_closest_centroids(X, centroids)\n",
        "\n",
        "        if plot_progress:\n",
        "            plot_progress_kMeans(X, centroids, previous_centroids, idx, K, i)\n",
        "            previous_centroids = centroids\n",
        "\n",
        "        centroids = compute_centroids(X, idx, K)\n",
        "    plt.show()\n",
        "    return centroids, idx"
      ],
      "metadata": {
        "id": "hZBW-NbRL6yR"
      },
      "execution_count": null,
      "outputs": []
    },
    {
      "cell_type": "code",
      "source": [
        "# Load an example dataset\n",
        "X = load_data()\n",
        "\n",
        "# Set initial centroids\n",
        "initial_centroids = np.array([[3,3],[6,2],[8,5]])\n",
        "\n",
        "# Number of iterations\n",
        "max_iters = 10\n",
        "\n",
        "# Run K-Means\n",
        "centroids, idx = run_kMeans(X, initial_centroids, max_iters, plot_progress=True)"
      ],
      "metadata": {
        "id": "sTUpWSEBL_Fl"
      },
      "execution_count": null,
      "outputs": []
    },
    {
      "cell_type": "code",
      "source": [
        "def kMeans_init_centroids(X, K):\n",
        "    \"\"\"\n",
        "    This function initializes K centroids that are to be\n",
        "    used in K-Means on the dataset X\n",
        "\n",
        "    Args:\n",
        "        X (ndarray): Data points\n",
        "        K (int):     number of centroids/clusters\n",
        "\n",
        "    Returns:\n",
        "        centroids (ndarray): Initialized centroids\n",
        "    \"\"\"\n",
        "\n",
        "    randidx = np.random.permutation(X.shape[0])\n",
        "\n",
        "    centroids = X[randidx[:K]]\n",
        "\n",
        "    return centroids"
      ],
      "metadata": {
        "id": "UygUWe6LMIg4"
      },
      "execution_count": null,
      "outputs": []
    },
    {
      "cell_type": "code",
      "source": [
        "# Set number of centroids and max number of iterations\n",
        "K = 3\n",
        "max_iters = 10\n",
        "\n",
        "# Set initial centroids by picking random examples from the dataset\n",
        "initial_centroids = kMeans_init_centroids(X, K)\n",
        "\n",
        "# Run K-Means\n",
        "centroids, idx = run_kMeans(X, initial_centroids, max_iters, plot_progress=True)"
      ],
      "metadata": {
        "id": "7lKaYaUMMPwt"
      },
      "execution_count": null,
      "outputs": []
    },
    {
      "cell_type": "code",
      "source": [
        "original_img = plt.imread('bird_small.png')"
      ],
      "metadata": {
        "id": "hko922tuMS88"
      },
      "execution_count": null,
      "outputs": []
    },
    {
      "cell_type": "code",
      "source": [
        "plt.imshow(original_img)"
      ],
      "metadata": {
        "id": "24QdM5JjMVIV"
      },
      "execution_count": null,
      "outputs": []
    },
    {
      "cell_type": "code",
      "source": [
        "X_img = np.reshape(original_img, (original_img.shape[0] * original_img.shape[1], 3))"
      ],
      "metadata": {
        "id": "rxdvdI2IMWMk"
      },
      "execution_count": null,
      "outputs": []
    },
    {
      "cell_type": "code",
      "source": [
        "K = 16\n",
        "max_iters = 10\n",
        "\n",
        "initial_centroids = kMeans_init_centroids(X_img, K)\n",
        "\n",
        "centroids, idx = run_kMeans(X_img, initial_centroids, max_iters)"
      ],
      "metadata": {
        "id": "AYMcq8t_MaSP"
      },
      "execution_count": null,
      "outputs": []
    },
    {
      "cell_type": "code",
      "source": [
        "idx = find_closest_centroids(X_img, centroids)\n",
        "\n",
        "X_recovered = centroids[idx, :]\n",
        "\n",
        "X_recovered = np.reshape(X_recovered, original_img.shape)"
      ],
      "metadata": {
        "id": "7RPeoxSMMfsp"
      },
      "execution_count": null,
      "outputs": []
    },
    {
      "cell_type": "code",
      "source": [
        "fig, ax = plt.subplots(1,2, figsize=(16,16))\n",
        "plt.axis('off')\n",
        "\n",
        "ax[0].imshow(original_img)\n",
        "ax[0].set_title('Original')\n",
        "ax[0].set_axis_off()\n",
        "\n",
        "ax[1].imshow(X_recovered)\n",
        "ax[1].set_title('Compressed with %d colours'%K)\n",
        "ax[1].set_axis_off()"
      ],
      "metadata": {
        "id": "XFIU7YM4MoqQ"
      },
      "execution_count": null,
      "outputs": []
    }
  ]
}